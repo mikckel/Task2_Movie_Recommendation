{
  "nbformat": 4,
  "nbformat_minor": 0,
  "metadata": {
    "colab": {
      "provenance": [],
      "authorship_tag": "ABX9TyP6YSjZbPpZXDM1IgO+xNmm",
      "include_colab_link": true
    },
    "kernelspec": {
      "name": "python3",
      "display_name": "Python 3"
    },
    "language_info": {
      "name": "python"
    }
  },
  "cells": [
    {
      "cell_type": "markdown",
      "metadata": {
        "id": "view-in-github",
        "colab_type": "text"
      },
      "source": [
        "<a href=\"https://colab.research.google.com/github/mikckel/Task2_Movie_Recommendation/blob/main/Movie_Recommendation.ipynb\" target=\"_parent\"><img src=\"https://colab.research.google.com/assets/colab-badge.svg\" alt=\"Open In Colab\"/></a>"
      ]
    },
    {
      "cell_type": "code",
      "source": [
        "!pip install implicit\n"
      ],
      "metadata": {
        "colab": {
          "base_uri": "https://localhost:8080/"
        },
        "id": "yKZPvqM__3Rm",
        "outputId": "d56c19ff-eb06-4be0-80ad-05ad17d03a4d"
      },
      "execution_count": 19,
      "outputs": [
        {
          "output_type": "stream",
          "name": "stdout",
          "text": [
            "Requirement already satisfied: implicit in /usr/local/lib/python3.10/dist-packages (0.7.2)\n",
            "Requirement already satisfied: numpy>=1.17.0 in /usr/local/lib/python3.10/dist-packages (from implicit) (1.25.2)\n",
            "Requirement already satisfied: scipy>=0.16 in /usr/local/lib/python3.10/dist-packages (from implicit) (1.11.4)\n",
            "Requirement already satisfied: tqdm>=4.27 in /usr/local/lib/python3.10/dist-packages (from implicit) (4.66.4)\n",
            "Requirement already satisfied: threadpoolctl in /usr/local/lib/python3.10/dist-packages (from implicit) (3.5.0)\n"
          ]
        }
      ]
    },
    {
      "cell_type": "code",
      "source": [
        "pip install scikit-surprise\n"
      ],
      "metadata": {
        "colab": {
          "base_uri": "https://localhost:8080/"
        },
        "id": "f-98kNFuAb0i",
        "outputId": "7baf0493-5ea0-4293-8f95-7c3e70019f7b"
      },
      "execution_count": 20,
      "outputs": [
        {
          "output_type": "stream",
          "name": "stdout",
          "text": [
            "Requirement already satisfied: scikit-surprise in /usr/local/lib/python3.10/dist-packages (1.1.4)\n",
            "Requirement already satisfied: joblib>=1.2.0 in /usr/local/lib/python3.10/dist-packages (from scikit-surprise) (1.4.2)\n",
            "Requirement already satisfied: numpy>=1.19.5 in /usr/local/lib/python3.10/dist-packages (from scikit-surprise) (1.25.2)\n",
            "Requirement already satisfied: scipy>=1.6.0 in /usr/local/lib/python3.10/dist-packages (from scikit-surprise) (1.11.4)\n"
          ]
        }
      ]
    },
    {
      "cell_type": "code",
      "source": [
        "import pandas as pd\n",
        "\n",
        "# Load the dataset\n",
        "ratings = pd.read_csv('ratings.csv')\n",
        "\n",
        "# Check column names\n",
        "print(ratings.columns)\n"
      ],
      "metadata": {
        "colab": {
          "base_uri": "https://localhost:8080/"
        },
        "id": "yh5zKohoBI4s",
        "outputId": "eaadef86-c90b-412c-e812-ce5c1463d5cd"
      },
      "execution_count": 21,
      "outputs": [
        {
          "output_type": "stream",
          "name": "stdout",
          "text": [
            "Index(['userId', 'movieId', 'rating', 'timestamp'], dtype='object')\n"
          ]
        }
      ]
    },
    {
      "cell_type": "code",
      "source": [
        "# Load movies dataset\n",
        "movies = pd.read_csv('movies.csv')\n",
        "\n",
        "# Check column names\n",
        "print(movies.columns)\n",
        "\n",
        "# Merge datasets to ensure 'title' is in the ratings DataFrame\n",
        "data = pd.merge(ratings, movies, on='movieId')\n",
        "print(data.head())\n"
      ],
      "metadata": {
        "colab": {
          "base_uri": "https://localhost:8080/"
        },
        "id": "lcVz3qMxBJ_e",
        "outputId": "d8254c16-9cf2-4128-ab00-2d8a3669e329"
      },
      "execution_count": 22,
      "outputs": [
        {
          "output_type": "stream",
          "name": "stdout",
          "text": [
            "Index(['movieId', 'title', 'genres'], dtype='object')\n",
            "   userId  movieId  rating   timestamp                title  \\\n",
            "0       1      296     5.0  1147880044  Pulp Fiction (1994)   \n",
            "1       3      296     5.0  1439474476  Pulp Fiction (1994)   \n",
            "2       4      296     4.0  1573938898  Pulp Fiction (1994)   \n",
            "3       5      296     4.0   830786155  Pulp Fiction (1994)   \n",
            "4       7      296     4.0   835444730  Pulp Fiction (1994)   \n",
            "\n",
            "                        genres  \n",
            "0  Comedy|Crime|Drama|Thriller  \n",
            "1  Comedy|Crime|Drama|Thriller  \n",
            "2  Comedy|Crime|Drama|Thriller  \n",
            "3  Comedy|Crime|Drama|Thriller  \n",
            "4  Comedy|Crime|Drama|Thriller  \n"
          ]
        }
      ]
    },
    {
      "cell_type": "code",
      "source": [
        "import pandas as pd\n",
        "from surprise import Dataset, Reader\n",
        "from surprise import KNNBasic, SVD\n",
        "from surprise.model_selection import train_test_split\n",
        "from surprise import accuracy\n",
        "\n",
        "# Load the dataset\n",
        "movies = pd.read_csv('movies.csv')\n",
        "ratings = pd.read_csv('ratings.csv')\n",
        "\n",
        "# Prepare data for surprise\n",
        "reader = Reader(rating_scale=(0.5, 5.0))\n",
        "dataset = Dataset.load_from_df(data[['userId', 'title', 'rating']], reader)\n"
      ],
      "metadata": {
        "id": "68mTCVCXAnGF"
      },
      "execution_count": 23,
      "outputs": []
    },
    {
      "cell_type": "code",
      "source": [
        "# Split data into training and test sets\n",
        "trainset, testset = train_test_split(dataset, test_size=0.25)\n",
        "\n",
        "# Use SVD for matrix factorization\n",
        "model = SVD()\n",
        "model.fit(trainset)\n",
        "\n",
        "# Predict ratings for the test set\n",
        "predictions = model.test(testset)\n",
        "print(f'RMSE: {accuracy.rmse(predictions)}')"
      ],
      "metadata": {
        "id": "8J80LMNsAwLl",
        "colab": {
          "base_uri": "https://localhost:8080/"
        },
        "outputId": "5c6c4f8d-a966-4f0a-922b-8c1b5173a5fe"
      },
      "execution_count": 28,
      "outputs": [
        {
          "output_type": "stream",
          "name": "stdout",
          "text": [
            "RMSE: 0.7957\n",
            "RMSE: 0.795684161680029\n"
          ]
        }
      ]
    },
    {
      "cell_type": "code",
      "source": [
        "def get_svd_recommendations(user_id, model, data, n_recommendations=5):\n",
        "    # Create a list of all movie titles\n",
        "    all_titles = data['title'].unique()\n",
        "\n",
        "    # Predict ratings for all movies\n",
        "    user_ratings = [model.predict(user_id, title) for title in all_titles]\n",
        "\n",
        "    # Sort by predicted rating and get top recommendations\n",
        "    recommendations = sorted(user_ratings, key=lambda x: x.est, reverse=True)\n",
        "\n",
        "    # Return top n recommendations\n",
        "    return [rec.iid for rec in recommendations[:n_recommendations]]\n"
      ],
      "metadata": {
        "id": "MmEd77C6Cyaa"
      },
      "execution_count": 25,
      "outputs": []
    },
    {
      "cell_type": "code",
      "source": [
        "user_id = 1\n",
        "svd_recommendations = get_svd_recommendations(user_id, model, data, n_recommendations=5)\n",
        "print(\"Recommendations for User 1 using SVD:\")\n",
        "print(svd_recommendations)"
      ],
      "metadata": {
        "id": "bwxAcMPQC78Y",
        "colab": {
          "base_uri": "https://localhost:8080/"
        },
        "outputId": "1fec8d4e-d964-4adf-a27f-b224cb500352"
      },
      "execution_count": 26,
      "outputs": [
        {
          "output_type": "stream",
          "name": "stdout",
          "text": [
            "Recommendations for User 1 using SVD:\n",
            "['Planet Earth II (2016)', 'Christmas Story, A (1983)', 'Parasite (2019)', 'All Watched Over by Machines of Loving Grace (2011)', 'Hedgehog in the Fog (1975)']\n"
          ]
        }
      ]
    }
  ]
}